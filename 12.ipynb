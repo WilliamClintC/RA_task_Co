{
 "cells": [
  {
   "cell_type": "code",
   "execution_count": 1,
   "id": "b6412ce9",
   "metadata": {},
   "outputs": [],
   "source": [
    "import pandas as pd\n",
    "\n",
    "pdf_length_df = pd.read_csv(r'C:\\Users\\clint\\Desktop\\RA Task\\pdf_length_comparison.csv')\n",
    "project_length_df = pd.read_csv(r'C:\\Users\\clint\\Desktop\\RA Task\\project_length_extracted.csv')"
   ]
  },
  {
   "cell_type": "code",
   "execution_count": 2,
   "id": "02dbf081",
   "metadata": {},
   "outputs": [
    {
     "data": {
      "application/vnd.microsoft.datawrangler.viewer.v0+json": {
       "columns": [
        {
         "name": "index",
         "rawType": "int64",
         "type": "integer"
        },
        {
         "name": "project_number",
         "rawType": "int64",
         "type": "integer"
        },
        {
         "name": "num_matches",
         "rawType": "int64",
         "type": "integer"
        },
        {
         "name": "match_1",
         "rawType": "object",
         "type": "string"
        },
        {
         "name": "match_2",
         "rawType": "object",
         "type": "string"
        },
        {
         "name": "all_matches_same",
         "rawType": "bool",
         "type": "boolean"
        },
        {
         "name": "comparison_1_2",
         "rawType": "bool",
         "type": "boolean"
        },
        {
         "name": "numbers_in_match_1",
         "rawType": "int64",
         "type": "integer"
        },
        {
         "name": "numbers_in_match_2",
         "rawType": "int64",
         "type": "integer"
        }
       ],
       "ref": "36b44038-73fd-4f9d-b5c7-ae7c0cb5fd69",
       "rows": [
        [
         "0",
         "170561",
         "2",
         "['10.15']",
         "['10.15']",
         "True",
         "True",
         "1",
         "1"
        ],
        [
         "1",
         "170626",
         "2",
         "[]",
         "[]",
         "True",
         "True",
         "0",
         "0"
        ],
        [
         "2",
         "170634",
         "2",
         "['13.93']",
         "['13.93']",
         "True",
         "True",
         "1",
         "1"
        ],
        [
         "3",
         "174015",
         "2",
         "['5.45']",
         "['5.45']",
         "True",
         "True",
         "1",
         "1"
        ],
        [
         "4",
         "174016",
         "2",
         "['1.22']",
         "['1.22']",
         "True",
         "True",
         "1",
         "1"
        ],
        [
         "5",
         "180003",
         "2",
         "['9.19']",
         "['9.13']",
         "False",
         "False",
         "1",
         "1"
        ],
        [
         "6",
         "180004",
         "2",
         "['1.76']",
         "['1.76']",
         "True",
         "True",
         "1",
         "1"
        ],
        [
         "7",
         "180006",
         "2",
         "['0.5']",
         "['0.5']",
         "True",
         "True",
         "1",
         "1"
        ],
        [
         "8",
         "180012",
         "2",
         "[]",
         "[]",
         "True",
         "True",
         "0",
         "0"
        ],
        [
         "9",
         "180014",
         "2",
         "['4.45']",
         "['4.45']",
         "True",
         "True",
         "1",
         "1"
        ],
        [
         "10",
         "180020",
         "2",
         "['1.23']",
         "['1.23']",
         "True",
         "True",
         "1",
         "1"
        ],
        [
         "11",
         "180024",
         "2",
         "['8.14']",
         "['8.14']",
         "True",
         "True",
         "1",
         "1"
        ],
        [
         "12",
         "180025",
         "2",
         "['8.87']",
         "['8.87']",
         "True",
         "True",
         "1",
         "1"
        ],
        [
         "13",
         "180028",
         "2",
         "['1.53']",
         "['1.53']",
         "True",
         "True",
         "1",
         "1"
        ],
        [
         "14",
         "180029",
         "2",
         "['7.65']",
         "['7.65']",
         "True",
         "True",
         "1",
         "1"
        ],
        [
         "15",
         "180031",
         "2",
         "['4.60']",
         "['4.60']",
         "True",
         "True",
         "1",
         "1"
        ],
        [
         "16",
         "180043",
         "2",
         "[]",
         "[]",
         "True",
         "True",
         "0",
         "0"
        ],
        [
         "17",
         "180045",
         "2",
         "['11.51']",
         "['11.51']",
         "True",
         "True",
         "1",
         "1"
        ],
        [
         "18",
         "180050",
         "2",
         "['2.27']",
         "['2.27']",
         "True",
         "True",
         "1",
         "1"
        ],
        [
         "19",
         "180051",
         "2",
         "['0.58']",
         "['0.58']",
         "True",
         "True",
         "1",
         "1"
        ],
        [
         "20",
         "180055",
         "2",
         "['1.82']",
         "['1.82']",
         "True",
         "True",
         "1",
         "1"
        ],
        [
         "21",
         "180058",
         "2",
         "['5.04']",
         "['5.04']",
         "True",
         "True",
         "1",
         "1"
        ],
        [
         "22",
         "180064",
         "2",
         "['9.68']",
         "['9.68']",
         "True",
         "True",
         "1",
         "1"
        ],
        [
         "23",
         "180066",
         "2",
         "['13.21']",
         "['13.21']",
         "True",
         "True",
         "1",
         "1"
        ],
        [
         "24",
         "180067",
         "2",
         "['3.61']",
         "['3.61']",
         "True",
         "True",
         "1",
         "1"
        ],
        [
         "25",
         "180068",
         "2",
         "['16.27']",
         "['16.27']",
         "True",
         "True",
         "1",
         "1"
        ],
        [
         "26",
         "180071",
         "2",
         "['23.68']",
         "['23.68']",
         "True",
         "True",
         "1",
         "1"
        ],
        [
         "27",
         "180073",
         "2",
         "['1.74']",
         "['1.74']",
         "True",
         "True",
         "1",
         "1"
        ],
        [
         "28",
         "180085",
         "2",
         "['3.11']",
         "['3.11']",
         "True",
         "True",
         "1",
         "1"
        ],
        [
         "29",
         "180088",
         "2",
         "['7.12']",
         "['7.12']",
         "True",
         "True",
         "1",
         "1"
        ],
        [
         "30",
         "180090",
         "2",
         "['8.85']",
         "['8.76']",
         "False",
         "False",
         "1",
         "1"
        ],
        [
         "31",
         "180092",
         "2",
         "['3.44']",
         "['3.44']",
         "True",
         "True",
         "1",
         "1"
        ],
        [
         "32",
         "180095",
         "2",
         "['14.49']",
         "['14.49']",
         "True",
         "True",
         "1",
         "1"
        ],
        [
         "33",
         "180101",
         "2",
         "[]",
         "[]",
         "True",
         "True",
         "0",
         "0"
        ],
        [
         "34",
         "180102",
         "2",
         "['6.54']",
         "['6.54']",
         "True",
         "True",
         "1",
         "1"
        ],
        [
         "35",
         "180103",
         "2",
         "['5.82']",
         "['5.82']",
         "True",
         "True",
         "1",
         "1"
        ],
        [
         "36",
         "180105",
         "2",
         "['1.4']",
         "['1.4']",
         "True",
         "True",
         "1",
         "1"
        ],
        [
         "37",
         "180108",
         "2",
         "['2.27']",
         "['2.27']",
         "True",
         "True",
         "1",
         "1"
        ],
        [
         "38",
         "180110",
         "2",
         "['9.67']",
         "['9.67']",
         "True",
         "True",
         "1",
         "1"
        ],
        [
         "39",
         "180112",
         "2",
         "['8.42']",
         "['8.42']",
         "True",
         "True",
         "1",
         "1"
        ],
        [
         "40",
         "180113",
         "2",
         "[]",
         "[]",
         "True",
         "True",
         "0",
         "0"
        ],
        [
         "41",
         "180114",
         "2",
         "[]",
         "[]",
         "True",
         "True",
         "0",
         "0"
        ],
        [
         "42",
         "180115",
         "2",
         "[]",
         "[]",
         "True",
         "True",
         "0",
         "0"
        ],
        [
         "43",
         "180116",
         "2",
         "[]",
         "[]",
         "True",
         "True",
         "0",
         "0"
        ],
        [
         "44",
         "180119",
         "2",
         "['5.40']",
         "['5.40']",
         "True",
         "True",
         "1",
         "1"
        ],
        [
         "45",
         "180122",
         "2",
         "['3.2']",
         "['3.2']",
         "True",
         "True",
         "1",
         "1"
        ],
        [
         "46",
         "180130",
         "2",
         "[]",
         "[]",
         "True",
         "True",
         "0",
         "0"
        ],
        [
         "47",
         "180132",
         "2",
         "['19.07']",
         "['19.07']",
         "True",
         "True",
         "1",
         "1"
        ],
        [
         "48",
         "180137",
         "2",
         "['5.71']",
         "['5.71']",
         "True",
         "True",
         "1",
         "1"
        ],
        [
         "49",
         "180139",
         "2",
         "['4.56']",
         "['4.18']",
         "False",
         "False",
         "1",
         "1"
        ]
       ],
       "shape": {
        "columns": 8,
        "rows": 202
       }
      },
      "text/html": [
       "<div>\n",
       "<style scoped>\n",
       "    .dataframe tbody tr th:only-of-type {\n",
       "        vertical-align: middle;\n",
       "    }\n",
       "\n",
       "    .dataframe tbody tr th {\n",
       "        vertical-align: top;\n",
       "    }\n",
       "\n",
       "    .dataframe thead th {\n",
       "        text-align: right;\n",
       "    }\n",
       "</style>\n",
       "<table border=\"1\" class=\"dataframe\">\n",
       "  <thead>\n",
       "    <tr style=\"text-align: right;\">\n",
       "      <th></th>\n",
       "      <th>project_number</th>\n",
       "      <th>num_matches</th>\n",
       "      <th>match_1</th>\n",
       "      <th>match_2</th>\n",
       "      <th>all_matches_same</th>\n",
       "      <th>comparison_1_2</th>\n",
       "      <th>numbers_in_match_1</th>\n",
       "      <th>numbers_in_match_2</th>\n",
       "    </tr>\n",
       "  </thead>\n",
       "  <tbody>\n",
       "    <tr>\n",
       "      <th>0</th>\n",
       "      <td>170561</td>\n",
       "      <td>2</td>\n",
       "      <td>['10.15']</td>\n",
       "      <td>['10.15']</td>\n",
       "      <td>True</td>\n",
       "      <td>True</td>\n",
       "      <td>1</td>\n",
       "      <td>1</td>\n",
       "    </tr>\n",
       "    <tr>\n",
       "      <th>1</th>\n",
       "      <td>170626</td>\n",
       "      <td>2</td>\n",
       "      <td>[]</td>\n",
       "      <td>[]</td>\n",
       "      <td>True</td>\n",
       "      <td>True</td>\n",
       "      <td>0</td>\n",
       "      <td>0</td>\n",
       "    </tr>\n",
       "    <tr>\n",
       "      <th>2</th>\n",
       "      <td>170634</td>\n",
       "      <td>2</td>\n",
       "      <td>['13.93']</td>\n",
       "      <td>['13.93']</td>\n",
       "      <td>True</td>\n",
       "      <td>True</td>\n",
       "      <td>1</td>\n",
       "      <td>1</td>\n",
       "    </tr>\n",
       "    <tr>\n",
       "      <th>3</th>\n",
       "      <td>174015</td>\n",
       "      <td>2</td>\n",
       "      <td>['5.45']</td>\n",
       "      <td>['5.45']</td>\n",
       "      <td>True</td>\n",
       "      <td>True</td>\n",
       "      <td>1</td>\n",
       "      <td>1</td>\n",
       "    </tr>\n",
       "    <tr>\n",
       "      <th>4</th>\n",
       "      <td>174016</td>\n",
       "      <td>2</td>\n",
       "      <td>['1.22']</td>\n",
       "      <td>['1.22']</td>\n",
       "      <td>True</td>\n",
       "      <td>True</td>\n",
       "      <td>1</td>\n",
       "      <td>1</td>\n",
       "    </tr>\n",
       "    <tr>\n",
       "      <th>...</th>\n",
       "      <td>...</td>\n",
       "      <td>...</td>\n",
       "      <td>...</td>\n",
       "      <td>...</td>\n",
       "      <td>...</td>\n",
       "      <td>...</td>\n",
       "      <td>...</td>\n",
       "      <td>...</td>\n",
       "    </tr>\n",
       "    <tr>\n",
       "      <th>197</th>\n",
       "      <td>180611</td>\n",
       "      <td>2</td>\n",
       "      <td>[]</td>\n",
       "      <td>[]</td>\n",
       "      <td>True</td>\n",
       "      <td>True</td>\n",
       "      <td>0</td>\n",
       "      <td>0</td>\n",
       "    </tr>\n",
       "    <tr>\n",
       "      <th>198</th>\n",
       "      <td>180621</td>\n",
       "      <td>2</td>\n",
       "      <td>['13.06']</td>\n",
       "      <td>['13.06']</td>\n",
       "      <td>True</td>\n",
       "      <td>True</td>\n",
       "      <td>1</td>\n",
       "      <td>1</td>\n",
       "    </tr>\n",
       "    <tr>\n",
       "      <th>199</th>\n",
       "      <td>180622</td>\n",
       "      <td>2</td>\n",
       "      <td>['24.61']</td>\n",
       "      <td>['24.58']</td>\n",
       "      <td>False</td>\n",
       "      <td>False</td>\n",
       "      <td>1</td>\n",
       "      <td>1</td>\n",
       "    </tr>\n",
       "    <tr>\n",
       "      <th>200</th>\n",
       "      <td>184002</td>\n",
       "      <td>2</td>\n",
       "      <td>['1.67']</td>\n",
       "      <td>['1.67']</td>\n",
       "      <td>True</td>\n",
       "      <td>True</td>\n",
       "      <td>1</td>\n",
       "      <td>1</td>\n",
       "    </tr>\n",
       "    <tr>\n",
       "      <th>201</th>\n",
       "      <td>187023</td>\n",
       "      <td>2</td>\n",
       "      <td>['17.59']</td>\n",
       "      <td>['17.59']</td>\n",
       "      <td>True</td>\n",
       "      <td>True</td>\n",
       "      <td>1</td>\n",
       "      <td>1</td>\n",
       "    </tr>\n",
       "  </tbody>\n",
       "</table>\n",
       "<p>202 rows × 8 columns</p>\n",
       "</div>"
      ],
      "text/plain": [
       "     project_number  num_matches    match_1    match_2  all_matches_same  \\\n",
       "0            170561            2  ['10.15']  ['10.15']              True   \n",
       "1            170626            2         []         []              True   \n",
       "2            170634            2  ['13.93']  ['13.93']              True   \n",
       "3            174015            2   ['5.45']   ['5.45']              True   \n",
       "4            174016            2   ['1.22']   ['1.22']              True   \n",
       "..              ...          ...        ...        ...               ...   \n",
       "197          180611            2         []         []              True   \n",
       "198          180621            2  ['13.06']  ['13.06']              True   \n",
       "199          180622            2  ['24.61']  ['24.58']             False   \n",
       "200          184002            2   ['1.67']   ['1.67']              True   \n",
       "201          187023            2  ['17.59']  ['17.59']              True   \n",
       "\n",
       "     comparison_1_2  numbers_in_match_1  numbers_in_match_2  \n",
       "0              True                   1                   1  \n",
       "1              True                   0                   0  \n",
       "2              True                   1                   1  \n",
       "3              True                   1                   1  \n",
       "4              True                   1                   1  \n",
       "..              ...                 ...                 ...  \n",
       "197            True                   0                   0  \n",
       "198            True                   1                   1  \n",
       "199           False                   1                   1  \n",
       "200            True                   1                   1  \n",
       "201            True                   1                   1  \n",
       "\n",
       "[202 rows x 8 columns]"
      ]
     },
     "execution_count": 2,
     "metadata": {},
     "output_type": "execute_result"
    }
   ],
   "source": [
    "pdf_length_df"
   ]
  },
  {
   "cell_type": "code",
   "execution_count": 3,
   "id": "c6225e67",
   "metadata": {},
   "outputs": [
    {
     "data": {
      "application/vnd.microsoft.datawrangler.viewer.v0+json": {
       "columns": [
        {
         "name": "index",
         "rawType": "int64",
         "type": "integer"
        },
        {
         "name": "filename",
         "rawType": "object",
         "type": "string"
        },
        {
         "name": "project_lengths",
         "rawType": "object",
         "type": "string"
        }
       ],
       "ref": "4d4313c7-bfa8-43ce-b969-0da22bfcaa0c",
       "rows": [
        [
         "0",
         "170561.pdf",
         "['10.15']"
        ],
        [
         "1",
         "170626.pdf",
         "[]"
        ],
        [
         "2",
         "170634.pdf",
         "['13.93']"
        ],
        [
         "3",
         "174015.pdf",
         "['5.45']"
        ],
        [
         "4",
         "174016.pdf",
         "['1.22']"
        ],
        [
         "5",
         "180003.pdf",
         "['9.19']"
        ],
        [
         "6",
         "180004.pdf",
         "['1.76']"
        ],
        [
         "7",
         "180006.pdf",
         "['0.5']"
        ],
        [
         "8",
         "180012.pdf",
         "[]"
        ],
        [
         "9",
         "180014.pdf",
         "['4.45']"
        ],
        [
         "10",
         "180020.pdf",
         "['1.23']"
        ],
        [
         "11",
         "180024.pdf",
         "['8.14']"
        ],
        [
         "12",
         "180025.pdf",
         "['8.87']"
        ],
        [
         "13",
         "180028.pdf",
         "['1.53']"
        ],
        [
         "14",
         "180029.pdf",
         "['7.65']"
        ],
        [
         "15",
         "180031.pdf",
         "['4.60']"
        ],
        [
         "16",
         "180043.pdf",
         "[]"
        ],
        [
         "17",
         "180045.pdf",
         "['11.51']"
        ],
        [
         "18",
         "180050.pdf",
         "['2.27']"
        ],
        [
         "19",
         "180051.pdf",
         "['0.58']"
        ],
        [
         "20",
         "180055.pdf",
         "['1.82']"
        ],
        [
         "21",
         "180058.pdf",
         "['5.04']"
        ],
        [
         "22",
         "180064.pdf",
         "['9.68']"
        ],
        [
         "23",
         "180066.pdf",
         "['13.21']"
        ],
        [
         "24",
         "180067.pdf",
         "['3.61']"
        ],
        [
         "25",
         "180068.pdf",
         "['16.27']"
        ],
        [
         "26",
         "180071.pdf",
         "['23.68']"
        ],
        [
         "27",
         "180073.pdf",
         "['1.74']"
        ],
        [
         "28",
         "180085.pdf",
         "['3.11']"
        ],
        [
         "29",
         "180088.pdf",
         "['7.12']"
        ],
        [
         "30",
         "180090.pdf",
         "['8.85']"
        ],
        [
         "31",
         "180092.pdf",
         "['3.44']"
        ],
        [
         "32",
         "180095.pdf",
         "['14.49']"
        ],
        [
         "33",
         "180101.pdf",
         "[]"
        ],
        [
         "34",
         "180102.pdf",
         "['6.54']"
        ],
        [
         "35",
         "180103.pdf",
         "['5.82']"
        ],
        [
         "36",
         "180105.pdf",
         "['1.4']"
        ],
        [
         "37",
         "180108.pdf",
         "['2.27']"
        ],
        [
         "38",
         "180110.pdf",
         "['9.67']"
        ],
        [
         "39",
         "180112.pdf",
         "['8.42']"
        ],
        [
         "40",
         "180113.pdf",
         "[]"
        ],
        [
         "41",
         "180114.pdf",
         "[]"
        ],
        [
         "42",
         "180115.pdf",
         "[]"
        ],
        [
         "43",
         "180116.pdf",
         "[]"
        ],
        [
         "44",
         "180119.pdf",
         "['5.40']"
        ],
        [
         "45",
         "180122.pdf",
         "['3.2']"
        ],
        [
         "46",
         "180130.pdf",
         "[]"
        ],
        [
         "47",
         "180132.pdf",
         "['19.07']"
        ],
        [
         "48",
         "180137.pdf",
         "['5.71']"
        ],
        [
         "49",
         "180139.pdf",
         "['4.56']"
        ]
       ],
       "shape": {
        "columns": 2,
        "rows": 202
       }
      },
      "text/html": [
       "<div>\n",
       "<style scoped>\n",
       "    .dataframe tbody tr th:only-of-type {\n",
       "        vertical-align: middle;\n",
       "    }\n",
       "\n",
       "    .dataframe tbody tr th {\n",
       "        vertical-align: top;\n",
       "    }\n",
       "\n",
       "    .dataframe thead th {\n",
       "        text-align: right;\n",
       "    }\n",
       "</style>\n",
       "<table border=\"1\" class=\"dataframe\">\n",
       "  <thead>\n",
       "    <tr style=\"text-align: right;\">\n",
       "      <th></th>\n",
       "      <th>filename</th>\n",
       "      <th>project_lengths</th>\n",
       "    </tr>\n",
       "  </thead>\n",
       "  <tbody>\n",
       "    <tr>\n",
       "      <th>0</th>\n",
       "      <td>170561.pdf</td>\n",
       "      <td>['10.15']</td>\n",
       "    </tr>\n",
       "    <tr>\n",
       "      <th>1</th>\n",
       "      <td>170626.pdf</td>\n",
       "      <td>[]</td>\n",
       "    </tr>\n",
       "    <tr>\n",
       "      <th>2</th>\n",
       "      <td>170634.pdf</td>\n",
       "      <td>['13.93']</td>\n",
       "    </tr>\n",
       "    <tr>\n",
       "      <th>3</th>\n",
       "      <td>174015.pdf</td>\n",
       "      <td>['5.45']</td>\n",
       "    </tr>\n",
       "    <tr>\n",
       "      <th>4</th>\n",
       "      <td>174016.pdf</td>\n",
       "      <td>['1.22']</td>\n",
       "    </tr>\n",
       "    <tr>\n",
       "      <th>...</th>\n",
       "      <td>...</td>\n",
       "      <td>...</td>\n",
       "    </tr>\n",
       "    <tr>\n",
       "      <th>197</th>\n",
       "      <td>180611.pdf</td>\n",
       "      <td>[]</td>\n",
       "    </tr>\n",
       "    <tr>\n",
       "      <th>198</th>\n",
       "      <td>180621.pdf</td>\n",
       "      <td>['13.06']</td>\n",
       "    </tr>\n",
       "    <tr>\n",
       "      <th>199</th>\n",
       "      <td>180622.pdf</td>\n",
       "      <td>['24.61']</td>\n",
       "    </tr>\n",
       "    <tr>\n",
       "      <th>200</th>\n",
       "      <td>184002.pdf</td>\n",
       "      <td>['1.67']</td>\n",
       "    </tr>\n",
       "    <tr>\n",
       "      <th>201</th>\n",
       "      <td>187023.pdf</td>\n",
       "      <td>['17.59']</td>\n",
       "    </tr>\n",
       "  </tbody>\n",
       "</table>\n",
       "<p>202 rows × 2 columns</p>\n",
       "</div>"
      ],
      "text/plain": [
       "       filename project_lengths\n",
       "0    170561.pdf       ['10.15']\n",
       "1    170626.pdf              []\n",
       "2    170634.pdf       ['13.93']\n",
       "3    174015.pdf        ['5.45']\n",
       "4    174016.pdf        ['1.22']\n",
       "..          ...             ...\n",
       "197  180611.pdf              []\n",
       "198  180621.pdf       ['13.06']\n",
       "199  180622.pdf       ['24.61']\n",
       "200  184002.pdf        ['1.67']\n",
       "201  187023.pdf       ['17.59']\n",
       "\n",
       "[202 rows x 2 columns]"
      ]
     },
     "execution_count": 3,
     "metadata": {},
     "output_type": "execute_result"
    }
   ],
   "source": [
    "project_length_df"
   ]
  },
  {
   "cell_type": "code",
   "execution_count": 4,
   "id": "9f3e9479",
   "metadata": {},
   "outputs": [
    {
     "name": "stdout",
     "output_type": "stream",
     "text": [
      "Project length dataframe with extracted project numbers:\n",
      "     filename project_lengths project_number\n",
      "0  170561.pdf       ['10.15']         170561\n",
      "1  170626.pdf              []         170626\n",
      "2  170634.pdf       ['13.93']         170634\n",
      "3  174015.pdf        ['5.45']         174015\n",
      "4  174016.pdf        ['1.22']         174016\n",
      "project_length_df['project_number'] dtype: object\n",
      "\n",
      "PDF length dataframe:\n",
      "  project_number  num_matches    match_1    match_2  all_matches_same  \\\n",
      "0         170561            2  ['10.15']  ['10.15']              True   \n",
      "1         170626            2         []         []              True   \n",
      "2         170634            2  ['13.93']  ['13.93']              True   \n",
      "3         174015            2   ['5.45']   ['5.45']              True   \n",
      "4         174016            2   ['1.22']   ['1.22']              True   \n",
      "\n",
      "   comparison_1_2  numbers_in_match_1  numbers_in_match_2  \n",
      "0            True                   1                   1  \n",
      "1            True                   0                   0  \n",
      "2            True                   1                   1  \n",
      "3            True                   1                   1  \n",
      "4            True                   1                   1  \n",
      "pdf_length_df['project_number'] dtype: object\n"
     ]
    }
   ],
   "source": [
    "# Extract project number from filename (remove .pdf extension)\n",
    "project_length_df['project_number'] = project_length_df['filename'].str.replace('.pdf', '')\n",
    "\n",
    "# Convert project_number to string in both dataframes to ensure consistent data types\n",
    "pdf_length_df['project_number'] = pdf_length_df['project_number'].astype(str)\n",
    "project_length_df['project_number'] = project_length_df['project_number'].astype(str)\n",
    "\n",
    "# Display the first few rows to verify the extraction\n",
    "print(\"Project length dataframe with extracted project numbers:\")\n",
    "print(project_length_df.head())\n",
    "print(f\"project_length_df['project_number'] dtype: {project_length_df['project_number'].dtype}\")\n",
    "print(\"\\nPDF length dataframe:\")\n",
    "print(pdf_length_df.head())\n",
    "print(f\"pdf_length_df['project_number'] dtype: {pdf_length_df['project_number'].dtype}\")"
   ]
  },
  {
   "cell_type": "code",
   "execution_count": 5,
   "id": "99f95c9a",
   "metadata": {},
   "outputs": [
    {
     "name": "stdout",
     "output_type": "stream",
     "text": [
      "Number of matching projects: 202\n",
      "Total projects in pdf_length_df: 202\n",
      "Total projects in project_length_df: 202\n",
      "\n",
      "First few rows of merged data:\n",
      "  project_number    match_1 project_lengths\n",
      "0         170561  ['10.15']       ['10.15']\n",
      "1         170626         []              []\n",
      "2         170634  ['13.93']       ['13.93']\n",
      "3         174015   ['5.45']        ['5.45']\n",
      "4         174016   ['1.22']        ['1.22']\n",
      "5         180003   ['9.19']        ['9.19']\n",
      "6         180004   ['1.76']        ['1.76']\n",
      "7         180006    ['0.5']         ['0.5']\n",
      "8         180012         []              []\n",
      "9         180014   ['4.45']        ['4.45']\n",
      "\n",
      "=== COMPARISON RESULTS ===\n",
      "Total matches found: 202\n",
      "Total mismatches: 0\n",
      "Percentage match: 100.0%\n",
      "\n",
      "=== EXAMPLES OF MATCHES ===\n",
      "  project_number    match_1 project_lengths\n",
      "0         170561  ['10.15']       ['10.15']\n",
      "1         170626         []              []\n",
      "2         170634  ['13.93']       ['13.93']\n",
      "3         174015   ['5.45']        ['5.45']\n",
      "4         174016   ['1.22']        ['1.22']\n",
      "\n",
      "=== EXAMPLES OF MISMATCHES ===\n",
      "No mismatches found!\n"
     ]
    }
   ],
   "source": [
    "# Merge the dataframes on project_number\n",
    "merged_df = pd.merge(pdf_length_df, project_length_df, on='project_number', how='inner')\n",
    "\n",
    "print(f\"Number of matching projects: {len(merged_df)}\")\n",
    "print(f\"Total projects in pdf_length_df: {len(pdf_length_df)}\")\n",
    "print(f\"Total projects in project_length_df: {len(project_length_df)}\")\n",
    "print(\"\\nFirst few rows of merged data:\")\n",
    "print(merged_df[['project_number', 'match_1', 'project_lengths']].head(10))\n",
    "\n",
    "# Compare match_1 and project_lengths\n",
    "merged_df['values_match'] = merged_df['match_1'] == merged_df['project_lengths']\n",
    "\n",
    "print(\"\\n=== COMPARISON RESULTS ===\")\n",
    "print(f\"Total matches found: {merged_df['values_match'].sum()}\")\n",
    "print(f\"Total mismatches: {(~merged_df['values_match']).sum()}\")\n",
    "print(f\"Percentage match: {(merged_df['values_match'].sum() / len(merged_df)) * 100:.1f}%\")\n",
    "\n",
    "# Show examples of matches and mismatches\n",
    "print(\"\\n=== EXAMPLES OF MATCHES ===\")\n",
    "matches = merged_df[merged_df['values_match']]\n",
    "print(matches[['project_number', 'match_1', 'project_lengths']].head())\n",
    "\n",
    "print(\"\\n=== EXAMPLES OF MISMATCHES ===\")\n",
    "mismatches = merged_df[~merged_df['values_match']]\n",
    "if len(mismatches) > 0:\n",
    "    print(mismatches[['project_number', 'match_1', 'project_lengths']].head())\n",
    "else:\n",
    "    print(\"No mismatches found!\")\n",
    "\n",
    "# Detailed analysis of mismatches\n",
    "if len(mismatches) > 0:\n",
    "    print(\"\\n=== DETAILED MISMATCH ANALYSIS ===\")\n",
    "    for idx, row in mismatches.head(10).iterrows():\n",
    "        print(f\"Project {row['project_number']}:\")\n",
    "        print(f\"  match_1: {row['match_1']}\")\n",
    "        print(f\"  project_lengths: {row['project_lengths']}\")\n",
    "        print()"
   ]
  },
  {
   "cell_type": "code",
   "execution_count": 6,
   "id": "09dc00b4",
   "metadata": {},
   "outputs": [
    {
     "name": "stdout",
     "output_type": "stream",
     "text": [
      "Comparison results saved to 'comparison_results.csv'\n",
      "\n",
      "SUMMARY:\n",
      "- Total projects compared: 202\n",
      "- Exact matches: 202\n",
      "- Mismatches: 0\n",
      "- Match rate: 100.0%\n",
      "\n",
      "Projects only in pdf_length_df: 0\n",
      "Projects only in project_length_df: 0\n"
     ]
    }
   ],
   "source": [
    "# Save the comparison results to a CSV file\n",
    "comparison_results = merged_df[['project_number', 'match_1', 'project_lengths', 'values_match']].copy()\n",
    "comparison_results.to_csv('comparison_results.csv', index=False)\n",
    "\n",
    "print(\"Comparison results saved to 'comparison_results.csv'\")\n",
    "print(\"\\nSUMMARY:\")\n",
    "print(f\"- Total projects compared: {len(merged_df)}\")\n",
    "print(f\"- Exact matches: {merged_df['values_match'].sum()}\")\n",
    "print(f\"- Mismatches: {(~merged_df['values_match']).sum()}\")\n",
    "print(f\"- Match rate: {(merged_df['values_match'].sum() / len(merged_df)) * 100:.1f}%\")\n",
    "\n",
    "# Check if there are projects that didn't match between datasets\n",
    "pdf_projects = set(pdf_length_df['project_number'])\n",
    "project_projects = set(project_length_df['project_number'])\n",
    "\n",
    "only_in_pdf = pdf_projects - project_projects\n",
    "only_in_project = project_projects - pdf_projects\n",
    "\n",
    "print(f\"\\nProjects only in pdf_length_df: {len(only_in_pdf)}\")\n",
    "if len(only_in_pdf) > 0:\n",
    "    print(f\"Examples: {list(only_in_pdf)[:5]}\")\n",
    "    \n",
    "print(f\"Projects only in project_length_df: {len(only_in_project)}\")\n",
    "if len(only_in_project) > 0:\n",
    "    print(f\"Examples: {list(only_in_project)[:5]}\")"
   ]
  },
  {
   "cell_type": "code",
   "execution_count": 7,
   "id": "68779534",
   "metadata": {},
   "outputs": [
    {
     "data": {
      "application/vnd.microsoft.datawrangler.viewer.v0+json": {
       "columns": [
        {
         "name": "index",
         "rawType": "int64",
         "type": "integer"
        },
        {
         "name": "project_number",
         "rawType": "object",
         "type": "string"
        },
        {
         "name": "match_1",
         "rawType": "object",
         "type": "string"
        },
        {
         "name": "project_lengths",
         "rawType": "object",
         "type": "string"
        },
        {
         "name": "values_match",
         "rawType": "bool",
         "type": "boolean"
        }
       ],
       "ref": "da91b125-0d60-4644-88c7-959c2a8e3933",
       "rows": [
        [
         "0",
         "170561",
         "['10.15']",
         "['10.15']",
         "True"
        ],
        [
         "1",
         "170626",
         "[]",
         "[]",
         "True"
        ],
        [
         "2",
         "170634",
         "['13.93']",
         "['13.93']",
         "True"
        ],
        [
         "3",
         "174015",
         "['5.45']",
         "['5.45']",
         "True"
        ],
        [
         "4",
         "174016",
         "['1.22']",
         "['1.22']",
         "True"
        ],
        [
         "5",
         "180003",
         "['9.19']",
         "['9.19']",
         "True"
        ],
        [
         "6",
         "180004",
         "['1.76']",
         "['1.76']",
         "True"
        ],
        [
         "7",
         "180006",
         "['0.5']",
         "['0.5']",
         "True"
        ],
        [
         "8",
         "180012",
         "[]",
         "[]",
         "True"
        ],
        [
         "9",
         "180014",
         "['4.45']",
         "['4.45']",
         "True"
        ],
        [
         "10",
         "180020",
         "['1.23']",
         "['1.23']",
         "True"
        ],
        [
         "11",
         "180024",
         "['8.14']",
         "['8.14']",
         "True"
        ],
        [
         "12",
         "180025",
         "['8.87']",
         "['8.87']",
         "True"
        ],
        [
         "13",
         "180028",
         "['1.53']",
         "['1.53']",
         "True"
        ],
        [
         "14",
         "180029",
         "['7.65']",
         "['7.65']",
         "True"
        ],
        [
         "15",
         "180031",
         "['4.60']",
         "['4.60']",
         "True"
        ],
        [
         "16",
         "180043",
         "[]",
         "[]",
         "True"
        ],
        [
         "17",
         "180045",
         "['11.51']",
         "['11.51']",
         "True"
        ],
        [
         "18",
         "180050",
         "['2.27']",
         "['2.27']",
         "True"
        ],
        [
         "19",
         "180051",
         "['0.58']",
         "['0.58']",
         "True"
        ],
        [
         "20",
         "180055",
         "['1.82']",
         "['1.82']",
         "True"
        ],
        [
         "21",
         "180058",
         "['5.04']",
         "['5.04']",
         "True"
        ],
        [
         "22",
         "180064",
         "['9.68']",
         "['9.68']",
         "True"
        ],
        [
         "23",
         "180066",
         "['13.21']",
         "['13.21']",
         "True"
        ],
        [
         "24",
         "180067",
         "['3.61']",
         "['3.61']",
         "True"
        ],
        [
         "25",
         "180068",
         "['16.27']",
         "['16.27']",
         "True"
        ],
        [
         "26",
         "180071",
         "['23.68']",
         "['23.68']",
         "True"
        ],
        [
         "27",
         "180073",
         "['1.74']",
         "['1.74']",
         "True"
        ],
        [
         "28",
         "180085",
         "['3.11']",
         "['3.11']",
         "True"
        ],
        [
         "29",
         "180088",
         "['7.12']",
         "['7.12']",
         "True"
        ],
        [
         "30",
         "180090",
         "['8.85']",
         "['8.85']",
         "True"
        ],
        [
         "31",
         "180092",
         "['3.44']",
         "['3.44']",
         "True"
        ],
        [
         "32",
         "180095",
         "['14.49']",
         "['14.49']",
         "True"
        ],
        [
         "33",
         "180101",
         "[]",
         "[]",
         "True"
        ],
        [
         "34",
         "180102",
         "['6.54']",
         "['6.54']",
         "True"
        ],
        [
         "35",
         "180103",
         "['5.82']",
         "['5.82']",
         "True"
        ],
        [
         "36",
         "180105",
         "['1.4']",
         "['1.4']",
         "True"
        ],
        [
         "37",
         "180108",
         "['2.27']",
         "['2.27']",
         "True"
        ],
        [
         "38",
         "180110",
         "['9.67']",
         "['9.67']",
         "True"
        ],
        [
         "39",
         "180112",
         "['8.42']",
         "['8.42']",
         "True"
        ],
        [
         "40",
         "180113",
         "[]",
         "[]",
         "True"
        ],
        [
         "41",
         "180114",
         "[]",
         "[]",
         "True"
        ],
        [
         "42",
         "180115",
         "[]",
         "[]",
         "True"
        ],
        [
         "43",
         "180116",
         "[]",
         "[]",
         "True"
        ],
        [
         "44",
         "180119",
         "['5.40']",
         "['5.40']",
         "True"
        ],
        [
         "45",
         "180122",
         "['3.2']",
         "['3.2']",
         "True"
        ],
        [
         "46",
         "180130",
         "[]",
         "[]",
         "True"
        ],
        [
         "47",
         "180132",
         "['19.07']",
         "['19.07']",
         "True"
        ],
        [
         "48",
         "180137",
         "['5.71']",
         "['5.71']",
         "True"
        ],
        [
         "49",
         "180139",
         "['4.56']",
         "['4.56']",
         "True"
        ]
       ],
       "shape": {
        "columns": 4,
        "rows": 202
       }
      },
      "text/html": [
       "<div>\n",
       "<style scoped>\n",
       "    .dataframe tbody tr th:only-of-type {\n",
       "        vertical-align: middle;\n",
       "    }\n",
       "\n",
       "    .dataframe tbody tr th {\n",
       "        vertical-align: top;\n",
       "    }\n",
       "\n",
       "    .dataframe thead th {\n",
       "        text-align: right;\n",
       "    }\n",
       "</style>\n",
       "<table border=\"1\" class=\"dataframe\">\n",
       "  <thead>\n",
       "    <tr style=\"text-align: right;\">\n",
       "      <th></th>\n",
       "      <th>project_number</th>\n",
       "      <th>match_1</th>\n",
       "      <th>project_lengths</th>\n",
       "      <th>values_match</th>\n",
       "    </tr>\n",
       "  </thead>\n",
       "  <tbody>\n",
       "    <tr>\n",
       "      <th>0</th>\n",
       "      <td>170561</td>\n",
       "      <td>['10.15']</td>\n",
       "      <td>['10.15']</td>\n",
       "      <td>True</td>\n",
       "    </tr>\n",
       "    <tr>\n",
       "      <th>1</th>\n",
       "      <td>170626</td>\n",
       "      <td>[]</td>\n",
       "      <td>[]</td>\n",
       "      <td>True</td>\n",
       "    </tr>\n",
       "    <tr>\n",
       "      <th>2</th>\n",
       "      <td>170634</td>\n",
       "      <td>['13.93']</td>\n",
       "      <td>['13.93']</td>\n",
       "      <td>True</td>\n",
       "    </tr>\n",
       "    <tr>\n",
       "      <th>3</th>\n",
       "      <td>174015</td>\n",
       "      <td>['5.45']</td>\n",
       "      <td>['5.45']</td>\n",
       "      <td>True</td>\n",
       "    </tr>\n",
       "    <tr>\n",
       "      <th>4</th>\n",
       "      <td>174016</td>\n",
       "      <td>['1.22']</td>\n",
       "      <td>['1.22']</td>\n",
       "      <td>True</td>\n",
       "    </tr>\n",
       "    <tr>\n",
       "      <th>...</th>\n",
       "      <td>...</td>\n",
       "      <td>...</td>\n",
       "      <td>...</td>\n",
       "      <td>...</td>\n",
       "    </tr>\n",
       "    <tr>\n",
       "      <th>197</th>\n",
       "      <td>180611</td>\n",
       "      <td>[]</td>\n",
       "      <td>[]</td>\n",
       "      <td>True</td>\n",
       "    </tr>\n",
       "    <tr>\n",
       "      <th>198</th>\n",
       "      <td>180621</td>\n",
       "      <td>['13.06']</td>\n",
       "      <td>['13.06']</td>\n",
       "      <td>True</td>\n",
       "    </tr>\n",
       "    <tr>\n",
       "      <th>199</th>\n",
       "      <td>180622</td>\n",
       "      <td>['24.61']</td>\n",
       "      <td>['24.61']</td>\n",
       "      <td>True</td>\n",
       "    </tr>\n",
       "    <tr>\n",
       "      <th>200</th>\n",
       "      <td>184002</td>\n",
       "      <td>['1.67']</td>\n",
       "      <td>['1.67']</td>\n",
       "      <td>True</td>\n",
       "    </tr>\n",
       "    <tr>\n",
       "      <th>201</th>\n",
       "      <td>187023</td>\n",
       "      <td>['17.59']</td>\n",
       "      <td>['17.59']</td>\n",
       "      <td>True</td>\n",
       "    </tr>\n",
       "  </tbody>\n",
       "</table>\n",
       "<p>202 rows × 4 columns</p>\n",
       "</div>"
      ],
      "text/plain": [
       "    project_number    match_1 project_lengths  values_match\n",
       "0           170561  ['10.15']       ['10.15']          True\n",
       "1           170626         []              []          True\n",
       "2           170634  ['13.93']       ['13.93']          True\n",
       "3           174015   ['5.45']        ['5.45']          True\n",
       "4           174016   ['1.22']        ['1.22']          True\n",
       "..             ...        ...             ...           ...\n",
       "197         180611         []              []          True\n",
       "198         180621  ['13.06']       ['13.06']          True\n",
       "199         180622  ['24.61']       ['24.61']          True\n",
       "200         184002   ['1.67']        ['1.67']          True\n",
       "201         187023  ['17.59']       ['17.59']          True\n",
       "\n",
       "[202 rows x 4 columns]"
      ]
     },
     "execution_count": 7,
     "metadata": {},
     "output_type": "execute_result"
    }
   ],
   "source": [
    "comparison_results"
   ]
  },
  {
   "cell_type": "code",
   "execution_count": null,
   "id": "8a4c0f77",
   "metadata": {},
   "outputs": [],
   "source": []
  }
 ],
 "metadata": {
  "kernelspec": {
   "display_name": "Python 3",
   "language": "python",
   "name": "python3"
  },
  "language_info": {
   "codemirror_mode": {
    "name": "ipython",
    "version": 3
   },
   "file_extension": ".py",
   "mimetype": "text/x-python",
   "name": "python",
   "nbconvert_exporter": "python",
   "pygments_lexer": "ipython3",
   "version": "3.11.9"
  }
 },
 "nbformat": 4,
 "nbformat_minor": 5
}
